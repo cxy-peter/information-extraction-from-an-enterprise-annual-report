{
  "nbformat": 4,
  "nbformat_minor": 0,
  "metadata": {
    "colab": {
      "provenance": []
    },
    "kernelspec": {
      "name": "python3",
      "display_name": "Python 3"
    },
    "language_info": {
      "name": "python"
    }
  },
  "cells": [
    {
      "cell_type": "code",
      "source": [
        "!pip install pymupdf pandas openpyxl"
      ],
      "metadata": {
        "id": "0dcWGfPcx7rL"
      },
      "execution_count": null,
      "outputs": []
    },
    {
      "cell_type": "code",
      "execution_count": null,
      "metadata": {
        "id": "e_sd9QU9x2FK"
      },
      "outputs": [],
      "source": [
        "import fitz  # PyMuPDF\n",
        "import pandas as pd\n",
        "from openpyxl import Workbook\n",
        "\n",
        "def extract_data_from_pdf(pdf_path):\n",
        "    doc = fitz.open(pdf_path)\n",
        "    text = \"\"\n",
        "    for page in doc:\n",
        "        text += page.get_text()\n",
        "\n",
        "    # Extract the relevant data using string operations or regex\n",
        "    # Here is an example extraction (you will need to adapt based on the actual format)\n",
        "    data = {\n",
        "        \"营业收入\": None,\n",
        "        \"归属于上市公司股东的净利润\": None,\n",
        "        \"归属于上市公司股东的扣除非经常性损益的净利润\": None,\n",
        "        \"经营活动产生的现金流量净额\": None,\n",
        "        \"基本每股收益\": None,\n",
        "        \"稀释每股收益\": None,\n",
        "        \"加权平均净资产收益率\": None,\n",
        "        \"资产总额\": None,\n",
        "        \"归属于上市公司股东的净资产\": None\n",
        "    }\n",
        "\n",
        "    # Example of extracting data - you will need to adjust the logic based on your actual data format\n",
        "    for line in text.split(\"\\n\"):\n",
        "        if \"营业收入\" in line:\n",
        "            data[\"营业收入\"] = float(line.split()[-1].replace(\",\", \"\"))\n",
        "        elif \"归属于上市公司股东的净利润\" in line:\n",
        "            data[\"归属于上市公司股东的净利润\"] = float(line.split()[-1].replace(\",\", \"\"))\n",
        "        elif \"归属于上市公司股东的扣除非经常性损益的净利润\" in line:\n",
        "            data[\"归属于上市公司股东的扣除非经常性损益的净利润\"] = float(line.split()[-1].replace(\",\", \"\"))\n",
        "        elif \"经营活动产生的现金流量净额\" in line:\n",
        "            data[\"经营活动产生的现金流量净额\"] = float(line.split()[-1].replace(\",\", \"\"))\n",
        "        elif \"基本每股收益\" in line:\n",
        "            data[\"基本每股收益\"] = float(line.split()[-1].replace(\",\", \"\"))\n",
        "        elif \"稀释每股收益\" in line:\n",
        "            data[\"稀释每股收益\"] = float(line.split()[-1].replace(\",\", \"\"))\n",
        "        elif \"加权平均净资产收益率\" in line:\n",
        "            data[\"加权平均净资产收益率\"] = float(line.split()[-1].replace(\",\", \"\"))\n",
        "        elif \"资产总额\" in line:\n",
        "            data[\"资产总额\"] = float(line.split()[-1].replace(\",\", \"\"))\n",
        "        elif \"归属于上市公司股东的净资产\" in line:\n",
        "            data[\"归属于上市公司股东的净资产\"] = float(line.split()[-1].replace(\",\", \"\"))\n",
        "\n",
        "    return data\n",
        "\n",
        "def export_to_excel(data_list, output_path):\n",
        "    df = pd.DataFrame(data_list)\n",
        "    df.to_excel(output_path, index=False)\n",
        "\n",
        "# Example usage\n",
        "pdf_files = [\"file1.pdf\", \"file2.pdf\", \"file3.pdf\"]  # List of PDF files\n",
        "data_list = []\n",
        "\n",
        "for pdf_file in pdf_files:\n",
        "    data = extract_data_from_pdf(pdf_file)\n",
        "    data_list.append(data)\n",
        "\n",
        "export_to_excel(data_list, \"financial_data.xlsx\")\n"
      ]
    },
    {
      "cell_type": "code",
      "source": [
        "!pip install PyMuPDF tabula-py pandas openpyxl\n",
        "!pip install tabula-py pandas openpyxl\n"
      ],
      "metadata": {
        "id": "qzxAccXlyFBE"
      },
      "execution_count": null,
      "outputs": []
    },
    {
      "cell_type": "code",
      "source": [
        "import fitz  # PyMuPDF\n",
        "import tabula\n",
        "import pandas as pd\n",
        "\n",
        "def find_keyword_page(pdf_path, keyword):\n",
        "    doc = fitz.open(pdf_path)\n",
        "    for page_num in range(len(doc)):\n",
        "        page = doc.load_page(page_num)\n",
        "        text = page.get_text()\n",
        "        if keyword in text:\n",
        "            return page_num + 1  # fitz pages are 0-indexed, tabula is 1-indexed\n",
        "    return None\n",
        "\n",
        "def extract_table_from_page(pdf_path, page_num):\n",
        "    tables = tabula.read_pdf(pdf_path, pages=page_num, multiple_tables=True)\n",
        "    return tables\n",
        "\n",
        "def export_to_excel(dataframe, output_path):\n",
        "    dataframe.to_excel(output_path, index=False)\n",
        "\n",
        "# Example usage\n",
        "pdf_file = \"Gopro_2023.pdf\"\n",
        "keyword = \"主要会计数据和财务指标\"\n",
        "output_file = \"key_table.xlsx\"\n",
        "\n",
        "# Find the page containing the keyword\n",
        "page_num = find_keyword_page(pdf_file, keyword)\n",
        "\n",
        "if page_num is not None:\n",
        "    print(f\"Keyword found on page {page_num}\")\n",
        "    # Extract the table from the identified page\n",
        "    tables = extract_table_from_page(pdf_file, page_num)\n",
        "    if tables:\n",
        "        # Assuming the first table on the page is the one we need\n",
        "        key_table = tables[0]\n",
        "        # Export to Excel\n",
        "        export_to_excel(key_table, output_file)\n",
        "        print(f\"Table extracted and saved to {output_file}\")\n",
        "    else:\n",
        "        print(\"No tables found on the specified page.\")\n",
        "else:\n",
        "    print(f\"Keyword '{keyword}' not found in the PDF.\")\n",
        "\n"
      ],
      "metadata": {
        "id": "yFxlj50Dx-xe"
      },
      "execution_count": null,
      "outputs": []
    },
    {
      "cell_type": "code",
      "source": [],
      "metadata": {
        "id": "WGcHv8SsyBsS"
      },
      "execution_count": null,
      "outputs": []
    }
  ]
}